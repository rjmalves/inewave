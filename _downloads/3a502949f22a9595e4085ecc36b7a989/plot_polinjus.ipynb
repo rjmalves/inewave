{
  "cells": [
    {
      "cell_type": "markdown",
      "metadata": {},
      "source": [
        "\n# Processamento dos dados do polinjus.csv\n"
      ]
    },
    {
      "cell_type": "markdown",
      "metadata": {},
      "source": [
        "Para realizar o processamento do polinjus.csv, ser\u00e1 utilizado o m\u00f3dulo plotly\n\n"
      ]
    },
    {
      "cell_type": "code",
      "execution_count": null,
      "metadata": {
        "collapsed": false
      },
      "outputs": [],
      "source": [
        "import plotly.graph_objects as go\nimport plotly.io as pio\nfrom numpy.polynomial import Polynomial\n\npio.templates.default = \"ggplot2\""
      ]
    },
    {
      "cell_type": "markdown",
      "metadata": {},
      "source": [
        "O polinjus.csv \u00e9 um arquivo de entrada das LIBS, utilizado pelo modelo NEWAVE particularmente\nem casos com est\u00e1gios individualizados, ou para execu\u00e7\u00e3o da simula\u00e7\u00e3o final individualizada.\nPara processar a sua informa\u00e7\u00e3o, o usu\u00e1rio deve importar a class `UsinasHidreletricas`, que cont\u00e9m\ntodos os m\u00e9todos necess\u00e1rios\n\n"
      ]
    },
    {
      "cell_type": "code",
      "execution_count": null,
      "metadata": {
        "collapsed": false
      },
      "outputs": [],
      "source": [
        "from inewave.libs import UsinasHidreletricas\n\narq_polinjus = UsinasHidreletricas.read(\"./libs/polinjus.csv\")"
      ]
    },
    {
      "cell_type": "markdown",
      "metadata": {},
      "source": [
        "A implementa\u00e7\u00e3o de todos os arquivos das LIBS segue o formato de arquivos por registro,\ncontendo informa\u00e7\u00f5es em linhas de coment\u00e1rios e com delimitador ';'. Al\u00e9m disso,\na primeira coluna sempre identifica qual o registro cadastrado na linha em quest\u00e3o. O\nn\u00famero total de colunas em cada linha \u00e9 vari\u00e1vel, de acordo com o valor da primeira coluna.\n\n"
      ]
    },
    {
      "cell_type": "markdown",
      "metadata": {},
      "source": [
        "Est\u00e3o dispon\u00edveis m\u00e9todos para cada registro, com argumentos opcionais para realizar filtros\nnos objetos a serem processados\n\n"
      ]
    },
    {
      "cell_type": "code",
      "execution_count": null,
      "metadata": {
        "collapsed": false
      },
      "outputs": [],
      "source": [
        "registros = arq_polinjus.hidreletrica_curvajusante(codigo_usina=1)\nregistros"
      ]
    },
    {
      "cell_type": "markdown",
      "metadata": {},
      "source": [
        "\u00c9 poss\u00edvel realizar a edi\u00e7\u00e3o dos objetos retornados relacionados\na cada registro. Para tal, basta atribuir valores a cada propriedade:\n\n"
      ]
    },
    {
      "cell_type": "code",
      "execution_count": null,
      "metadata": {
        "collapsed": false
      },
      "outputs": [],
      "source": [
        "registros[0].indice_familia = 5"
      ]
    },
    {
      "cell_type": "markdown",
      "metadata": {},
      "source": [
        "Outra possibilidade \u00e9 gerar uma visualiza\u00e7\u00e3o dos conte\u00fados do arquivo\nno formato de DataFrame. Neste caso, a informa\u00e7\u00e3o \u00e9 somente leitura\n\n"
      ]
    },
    {
      "cell_type": "code",
      "execution_count": null,
      "metadata": {
        "collapsed": false
      },
      "outputs": [],
      "source": [
        "df = arq_polinjus.hidreletrica_curvajusante(df=True)\ndf.head()"
      ]
    },
    {
      "cell_type": "markdown",
      "metadata": {},
      "source": [
        "Com as informa\u00e7\u00f5es do polinjus.csv \u00e9 poss\u00edvel gerar uma visualiza\u00e7\u00e3o para os polin\u00f4mios\nde jusante. Em particular, o registro HIDRELETRICA-CURVAJUSANTE-POLINOMIOPORPARTES-SEGMENTO\ncont\u00e9m as informa\u00e7\u00f5es desejadas. No caso, por exemplo, para a usina de c\u00f3digo 7\n\n"
      ]
    },
    {
      "cell_type": "code",
      "execution_count": null,
      "metadata": {
        "collapsed": false
      },
      "outputs": [],
      "source": [
        "df = arq_polinjus.hidreletrica_curvajusante_polinomio_segmento(df=True)\ndf = df.loc[df[\"codigo_usina\"] == 7]\ndf.head()"
      ]
    },
    {
      "cell_type": "markdown",
      "metadata": {},
      "source": [
        "Para a visualiza\u00e7\u00e3o, vamos gerar 100 amostras para cada segmento, que \u00e9 aproximado\npor um polin\u00f4mio.\n\n"
      ]
    },
    {
      "cell_type": "code",
      "execution_count": null,
      "metadata": {
        "collapsed": false
      },
      "outputs": [],
      "source": [
        "num_pontos = 100\nordem_polinomios = 4\ncols_coeficientes = [f\"coeficiente_a{i}\" for i in range(ordem_polinomios + 1)]\n\nnum_curvas = len(df[\"indice_familia\"].unique())\nvazoes_limites = []\npontos_familias = {}\nfor indice_familia in range(num_curvas):\n    df_familia = df.loc[df[\"indice_familia\"] == indice_familia]\n    pontos_familias[indice_familia] = {\"x\": [], \"y\": []}\n    indices_polinomios = df_familia[\"indice_polinomio\"].unique().tolist()\n    for indice_polinomio in indices_polinomios:\n        df_polinomio = df_familia.loc[\n            df_familia[\"indice_polinomio\"] == indice_polinomio\n        ]\n        lim_inf = df_polinomio[\"limite_inferior_vazao_jusante\"].iloc[0]\n        lim_sup = df_polinomio[\"limite_superior_vazao_jusante\"].iloc[0]\n        vazoes_limites += [lim_inf, lim_sup]\n        coeficientes = df_polinomio[cols_coeficientes].to_numpy().flatten()\n        polinomio = Polynomial(coeficientes)\n        x, y = polinomio.linspace(n=num_pontos, domain=[lim_inf, lim_sup])\n        pontos_familias[indice_familia][\"x\"] += list(x)\n        pontos_familias[indice_familia][\"y\"] += list(y)"
      ]
    },
    {
      "cell_type": "markdown",
      "metadata": {},
      "source": [
        "Para visualizar:\n\n"
      ]
    },
    {
      "cell_type": "code",
      "execution_count": null,
      "metadata": {
        "collapsed": false
      },
      "outputs": [],
      "source": [
        "fig = go.Figure()\nfor familia, pontos in pontos_familias.items():\n    fig.add_trace(\n        go.Scatter(\n            x=pontos[\"x\"],\n            y=pontos[\"y\"],\n            mode=\"lines\",\n            name=str(familia),\n        )\n    )\n\nfig.update_xaxes(title=\"Vaz\u00e3o Defluente (m3/s)\")\nfig.update_yaxes(title=\"N\u00edvel de Jusante (m)\")\nfig.update_layout(legend_title_text=\"Fam\u00edlia\")\nfig"
      ]
    }
  ],
  "metadata": {
    "kernelspec": {
      "display_name": "Python 3",
      "language": "python",
      "name": "python3"
    },
    "language_info": {
      "codemirror_mode": {
        "name": "ipython",
        "version": 3
      },
      "file_extension": ".py",
      "mimetype": "text/x-python",
      "name": "python",
      "nbconvert_exporter": "python",
      "pygments_lexer": "ipython3",
      "version": "3.12.11"
    }
  },
  "nbformat": 4,
  "nbformat_minor": 0
}