{
  "cells": [
    {
      "cell_type": "markdown",
      "metadata": {},
      "source": [
        "\n# Gera\u00e7\u00e3o de sensibilidades de mercado no sistema.dat\n"
      ]
    },
    {
      "cell_type": "markdown",
      "metadata": {},
      "source": [
        "Para realizar a an\u00e1lise do sistema.dat, ser\u00e1 utilizado o m\u00f3dulo plotly\n\n"
      ]
    },
    {
      "cell_type": "code",
      "execution_count": null,
      "metadata": {
        "collapsed": false
      },
      "outputs": [],
      "source": [
        "from datetime import datetime\nimport pandas as pd\nimport plotly.graph_objects as go\nimport plotly.io as pio\n\npio.templates.default = \"ggplot2\""
      ]
    },
    {
      "cell_type": "markdown",
      "metadata": {},
      "source": [
        "O sistema.dat \u00e9 o arquivo de entrada do modelo NEWAVE que cont\u00e9m informa\u00e7\u00f5es\nsobre os submercados de energia. Em particular, s\u00e3o definidos os submercados\ne as curvas de mercado de energia esperado por est\u00e1gio, para cada um.\n\u00c9 uma an\u00e1lise comum a an\u00e1lise de sensibilidades em rela\u00e7\u00e3o ao mercado de energia\ne \u00e0 gera\u00e7\u00e3o das usinas n\u00e3o simuladas e, por isso, ser\u00e1 ilustrado um exemplo deste caso.\n\n"
      ]
    },
    {
      "cell_type": "code",
      "execution_count": null,
      "metadata": {
        "collapsed": false
      },
      "outputs": [],
      "source": [
        "from inewave.newave import Sistema\n\narq_sistema = Sistema.read(\"./newave/sistema.dat\")"
      ]
    },
    {
      "cell_type": "markdown",
      "metadata": {},
      "source": [
        "A defini\u00e7\u00e3o dos submercados \u00e9 acess\u00edvel atrav\u00e9s do bloco que define os custos de d\u00e9ficit\n\n"
      ]
    },
    {
      "cell_type": "code",
      "execution_count": null,
      "metadata": {
        "collapsed": false
      },
      "outputs": [],
      "source": [
        "arq_sistema.custo_deficit"
      ]
    },
    {
      "cell_type": "markdown",
      "metadata": {},
      "source": [
        "As informa\u00e7\u00f5es de mercado de energia s\u00e3o reunidas em uma \u00fanica propriedade\ne esta pode ser alterada livremente\n\n"
      ]
    },
    {
      "cell_type": "code",
      "execution_count": null,
      "metadata": {
        "collapsed": false
      },
      "outputs": [],
      "source": [
        "arq_sistema.mercado_energia"
      ]
    },
    {
      "cell_type": "markdown",
      "metadata": {},
      "source": [
        "Ser\u00e1 feito um gr\u00e1fico de \u00e1rea empilhado. Para isso, ser\u00e3o geradas algumas vari\u00e1veis auxiliares.\n\n"
      ]
    },
    {
      "cell_type": "code",
      "execution_count": null,
      "metadata": {
        "collapsed": false
      },
      "outputs": [],
      "source": [
        "df = arq_sistema.mercado_energia\nx = pd.date_range(\n    df[\"data\"].min(),\n    df[\"data\"].max(),\n    freq=\"MS\",\n)"
      ]
    },
    {
      "cell_type": "markdown",
      "metadata": {},
      "source": [
        "Para a figura, s\u00e3o geradas as retas independentemente\n\n"
      ]
    },
    {
      "cell_type": "code",
      "execution_count": null,
      "metadata": {
        "collapsed": false
      },
      "outputs": [],
      "source": [
        "fig = go.Figure()\nfor submercado in df[\"codigo_submercado\"].unique():\n    y = df.loc[df[\"codigo_submercado\"] == submercado, \"valor\"]\n    fig.add_trace(\n        go.Scatter(\n            x=x,\n            y=y,\n            mode=\"lines\",\n            stackgroup=\"one\",\n            name=str(submercado),\n        )\n    )\n\nfig.update_xaxes(title=\"Data\")\nfig.update_yaxes(title=\"Mercado de Energia (MWmes)\")\nfig.update_layout(legend_title_text=\"Submercado\")\nfig"
      ]
    },
    {
      "cell_type": "markdown",
      "metadata": {},
      "source": [
        "\u00c9 poss\u00edvel realizar edi\u00e7\u00f5es livres na propriedade do arquivo, para gera\u00e7\u00e3o de estudos\nde sensibilidades. Por exemplo, \u00e9 poss\u00edvel aumentar a carga do submercado NORDESTE\nem 30% e conferir o efeito na opera\u00e7\u00e3o com a execu\u00e7\u00e3o do modelo.\n\n"
      ]
    },
    {
      "cell_type": "code",
      "execution_count": null,
      "metadata": {
        "collapsed": false
      },
      "outputs": [],
      "source": [
        "arq_sistema.mercado_energia.loc[\n    arq_sistema.mercado_energia[\"codigo_submercado\"] == 3, \"valor\"\n] *= 1.3\n\nfrom io import StringIO\n\nconteudo_sistema = StringIO()\narq_sistema.write(conteudo_sistema)\nprint(conteudo_sistema.getvalue())"
      ]
    }
  ],
  "metadata": {
    "kernelspec": {
      "display_name": "Python 3",
      "language": "python",
      "name": "python3"
    },
    "language_info": {
      "codemirror_mode": {
        "name": "ipython",
        "version": 3
      },
      "file_extension": ".py",
      "mimetype": "text/x-python",
      "name": "python",
      "nbconvert_exporter": "python",
      "pygments_lexer": "ipython3",
      "version": "3.12.11"
    }
  },
  "nbformat": 4,
  "nbformat_minor": 0
}