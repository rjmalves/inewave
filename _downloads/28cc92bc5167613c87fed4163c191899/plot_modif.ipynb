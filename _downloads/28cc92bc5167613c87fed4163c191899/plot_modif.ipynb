{
  "cells": [
    {
      "cell_type": "markdown",
      "metadata": {},
      "source": [
        "\n# An\u00e1lise de modifica\u00e7\u00f5es do modif.dat\n"
      ]
    },
    {
      "cell_type": "markdown",
      "metadata": {},
      "source": [
        "Para realizar a an\u00e1lise do modif.dat ser\u00e1 utilizado o m\u00f3dulo plotly\n\n"
      ]
    },
    {
      "cell_type": "code",
      "execution_count": null,
      "metadata": {
        "collapsed": false
      },
      "outputs": [],
      "source": [
        "import plotly.express as px\nimport plotly.io as pio\nimport pandas as pd\nfrom datetime import datetime\n\npio.templates.default = \"ggplot2\""
      ]
    },
    {
      "cell_type": "markdown",
      "metadata": {},
      "source": [
        "O modif.dat \u00e9 principal arquivo de entrada do NEWAVE para altera\u00e7\u00f5es cadastrais\nrelacioanadas a usinas hidrel\u00e9tricas. Tamb\u00e9m nele s\u00e3o encontradas algumas restri\u00e7\u00f5es\nf\u00edsicas e operativas das usinas, que frequentemente precisam ser alteradas.\nAssim, este exemplo cont\u00e9m uma an\u00e1lise e edi\u00e7\u00e3o nas restri\u00e7\u00f5es operativas\nde uma UHE. O modif.dat \u00e9 o \u00fanico arquivo modelado com a abordagem de registros\nque \u00e9 exclusivo do modelo NEWAVE e, por isso, sua l\u00f3gica \u00e9 diferente dos demais.\n\n"
      ]
    },
    {
      "cell_type": "code",
      "execution_count": null,
      "metadata": {
        "collapsed": false
      },
      "outputs": [],
      "source": [
        "from inewave.newave import Modif\n\narq_modif = Modif.read(\"./newave/modif.dat\")"
      ]
    },
    {
      "cell_type": "markdown",
      "metadata": {},
      "source": [
        "\u00c9 poss\u00edvel visualizar todos os registros de um mesmo tipo existentes no arquivo\nno formato de DataFrame, por\u00e9m este formato \u00e9 apenas para visualiza\u00e7\u00e3o.\n\n"
      ]
    },
    {
      "cell_type": "code",
      "execution_count": null,
      "metadata": {
        "collapsed": false
      },
      "outputs": [],
      "source": [
        "arq_modif.usina(df=True)"
      ]
    },
    {
      "cell_type": "markdown",
      "metadata": {},
      "source": [
        "O outro formato para visualiza\u00e7\u00e3o dos registros \u00e9 a extra\u00e7\u00e3o dos objetos em si,\nque \u00e9 a maneira de se realizar tamb\u00e9m a edi\u00e7\u00e3o de seus conte\u00fados. Desta forma, tamb\u00e9m\n\u00e9 poss\u00edvel aplicar filtros no registro desejado.\n\n"
      ]
    },
    {
      "cell_type": "code",
      "execution_count": null,
      "metadata": {
        "collapsed": false
      },
      "outputs": [],
      "source": [
        "arq_modif.vazmint(data_inicio=datetime(2021, 2, 1))"
      ]
    },
    {
      "cell_type": "markdown",
      "metadata": {},
      "source": [
        "Para editar o arquivo modif, necessitamos frequentemente de deletar registros existentes\ne de criar novos registros. Para isto, instanciamos os modelos dos registros existentes\nno m\u00f3dulo *inewave* e adicionamos ao objeto do arquivo atrav\u00e9s dos m\u00e9todos da classe.\n\n"
      ]
    },
    {
      "cell_type": "code",
      "execution_count": null,
      "metadata": {
        "collapsed": false
      },
      "outputs": [],
      "source": [
        "from inewave.newave.modif import TURBMAXT\n\ncodigo_usina_modificada = 7\n\nnovo_registro = TURBMAXT()\nnovo_registro.data_inicio = datetime(2021, 2, 1)\nnovo_registro.turbinamento = 1000.0\narq_modif.data.add_after(\n    arq_modif.usina(codigo=codigo_usina_modificada),\n    novo_registro,\n)"
      ]
    },
    {
      "cell_type": "markdown",
      "metadata": {},
      "source": [
        "Podemos conferir se a inser\u00e7\u00e3o foi feita com sucesso ao listar os registros da usina\nem quest\u00e3o:\n\n"
      ]
    },
    {
      "cell_type": "code",
      "execution_count": null,
      "metadata": {
        "collapsed": false
      },
      "outputs": [],
      "source": [
        "registros_usinas = arq_modif.modificacoes_usina(codigo_usina_modificada)\nprint([r for r in registros_usinas if isinstance(r, TURBMAXT)])"
      ]
    },
    {
      "cell_type": "markdown",
      "metadata": {},
      "source": [
        "Al\u00e9m de edi\u00e7\u00f5es, podemos visualizar informa\u00e7\u00f5es contidas no modif. Por exemplo, a varia\u00e7\u00e3o\nda cota de montante de JIRAU ao longo do tempo:\n\n"
      ]
    },
    {
      "cell_type": "code",
      "execution_count": null,
      "metadata": {
        "collapsed": false
      },
      "outputs": [],
      "source": [
        "from inewave.newave.modif import CMONT\n\nregistros_cmont = [\n    r for r in arq_modif.modificacoes_usina(codigo=285) if isinstance(r, CMONT)\n]\ndatas = [r.data_inicio for r in registros_cmont]\ncotas = [r.nivel for r in registros_cmont]\ndf_cmont = pd.DataFrame(data={\"data\": datas, \"cota\": cotas})\nfig = px.line(df_cmont, x=\"data\", y=\"cota\")\nfig"
      ]
    }
  ],
  "metadata": {
    "kernelspec": {
      "display_name": "Python 3",
      "language": "python",
      "name": "python3"
    },
    "language_info": {
      "codemirror_mode": {
        "name": "ipython",
        "version": 3
      },
      "file_extension": ".py",
      "mimetype": "text/x-python",
      "name": "python",
      "nbconvert_exporter": "python",
      "pygments_lexer": "ipython3",
      "version": "3.12.11"
    }
  },
  "nbformat": 4,
  "nbformat_minor": 0
}