{
  "cells": [
    {
      "cell_type": "markdown",
      "metadata": {},
      "source": [
        "\n# Versionamento de Arquivos\n"
      ]
    },
    {
      "cell_type": "markdown",
      "metadata": {},
      "source": [
        "Para exemplificar a leitura de arquivos que mudaram de formato\ncom o versionamento do modelo NEWAVE, ser\u00e1 utilizada a leitura\ndo pmo.dat para obten\u00e7\u00e3o da vers\u00e3o da rodada\n\n"
      ]
    },
    {
      "cell_type": "code",
      "execution_count": null,
      "metadata": {
        "collapsed": false
      },
      "outputs": [],
      "source": [
        "from inewave.newave import Pmo\n\narq_pmo = Pmo.read(\"./newave/pmo.dat\")"
      ]
    },
    {
      "cell_type": "markdown",
      "metadata": {},
      "source": [
        "A vers\u00e3o utilizada na execu\u00e7\u00e3o do modelo pode ser obtida com\n\n"
      ]
    },
    {
      "cell_type": "code",
      "execution_count": null,
      "metadata": {
        "collapsed": false
      },
      "outputs": [],
      "source": [
        "versao = arq_pmo.versao_modelo\nversao"
      ]
    },
    {
      "cell_type": "markdown",
      "metadata": {},
      "source": [
        "Exemplos de arquivos que sofreram altera\u00e7\u00e3o de formato\ncom o versionamento do modelo s\u00e3o os `cmargXXX.out` e `cmargXXX-med.out`\ndo NWLISTOP, com as informa\u00e7\u00f5es do custo marginal de opera\u00e7\u00e3o. A partir da\nvers\u00e3o 29.4.1, houve uma mudan\u00e7a na formata\u00e7\u00e3o do arquivo. Desta forma, ao se realizar\na leitura diretamente da classe `Cmargmed <cmargmed>`, espera-se que o arquivo esteja no formato\nda \u00faltima vers\u00e3o do modelo. Caso n\u00e3o esteja, os valores n\u00e3o s\u00e3o lidos corretamente\n\n"
      ]
    },
    {
      "cell_type": "code",
      "execution_count": null,
      "metadata": {
        "collapsed": false
      },
      "outputs": [],
      "source": [
        "from inewave.nwlistop import Cmargmed\n\ncmarg = Cmargmed.read(\"./nwlistop/cmarg001-med.out\")\ncmarg.valores"
      ]
    },
    {
      "cell_type": "code",
      "execution_count": null,
      "metadata": {
        "collapsed": false
      },
      "outputs": [],
      "source": [
        "cmarg_v28_erro = Cmargmed.read(\"./nwlistop/cmarg001-med_v28.out\")\ncmarg_v28_erro.valores"
      ]
    },
    {
      "cell_type": "markdown",
      "metadata": {},
      "source": [
        "Todavia, se \u00e9 atribu\u00edda a vers\u00e3o correta, os valores s\u00e3o lidos correamente\n\n"
      ]
    },
    {
      "cell_type": "code",
      "execution_count": null,
      "metadata": {
        "collapsed": false
      },
      "outputs": [],
      "source": [
        "Cmargmed.set_version(versao)\ncmarg_v28 = Cmargmed.read(\"./nwlistop/cmarg001-med_v28.out\")\ncmarg_v28.valores"
      ]
    }
  ],
  "metadata": {
    "kernelspec": {
      "display_name": "Python 3",
      "language": "python",
      "name": "python3"
    },
    "language_info": {
      "codemirror_mode": {
        "name": "ipython",
        "version": 3
      },
      "file_extension": ".py",
      "mimetype": "text/x-python",
      "name": "python",
      "nbconvert_exporter": "python",
      "pygments_lexer": "ipython3",
      "version": "3.12.11"
    }
  },
  "nbformat": 4,
  "nbformat_minor": 0
}