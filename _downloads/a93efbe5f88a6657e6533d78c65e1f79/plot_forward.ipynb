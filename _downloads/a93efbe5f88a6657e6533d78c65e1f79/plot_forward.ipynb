{
  "cells": [
    {
      "cell_type": "markdown",
      "metadata": {},
      "source": [
        "\n# Leitura dos bin\u00e1rios forwarh.dat e forward.dat\n"
      ]
    },
    {
      "cell_type": "markdown",
      "metadata": {},
      "source": [
        "<div class=\"alert alert-danger\"><h4>Warning</h4><p>Estes arquivos podem mudar de formato com frequ\u00eancia mediante o versionamento\n    do modelo. Recomenda-se aten\u00e7\u00e3o com o uso da propriedade `set_version` para a\n    vers\u00e3o correta e, caso esta n\u00e3o seja suportada, a abertura de uma [issue](https://github.com/rjmalves/inewave/issues).</p></div>\n\n\n"
      ]
    },
    {
      "cell_type": "markdown",
      "metadata": {},
      "source": [
        "Para ilustrar o processamento destes arquivos, ser\u00e3o usados m\u00f3dulos de visualiza\u00e7\u00e3o\ncomo o plotly\n\n"
      ]
    },
    {
      "cell_type": "code",
      "execution_count": null,
      "metadata": {
        "collapsed": false
      },
      "outputs": [],
      "source": [
        "import plotly.io as pio\n\npio.templates.default = \"ggplot2\""
      ]
    },
    {
      "cell_type": "markdown",
      "metadata": {},
      "source": [
        "O forward.dat \u00e9 o arquivo bin\u00e1rio de sa\u00edda do modelo NEWAVE que cont\u00e9m as informa\u00e7\u00f5es\nsobre a simula\u00e7\u00e3o final. Para casos oficiais, seu tamanho pode chegar a v\u00e1rios GB.\nA leitura deste arquivo s\u00f3 \u00e9 poss\u00edvel ao processar anteriormente o arquivo forwarh.dat,\nque cont\u00e9m informa\u00e7\u00f5es necess\u00e1rias para configurar a leitura do forward.dat.\n\n"
      ]
    },
    {
      "cell_type": "code",
      "execution_count": null,
      "metadata": {
        "collapsed": false
      },
      "outputs": [],
      "source": [
        "from inewave.newave.forwarh import Forwarh\n\narq_cabecalho = Forwarh.read(\"./newave/forwarh.dat\")\n\ntamanho_registro = arq_cabecalho.tamanho_registro_arquivo_forward\n\nnumero_estagios = 1  # arq_cabecalho.numero_estagios_estudo\nnumero_forwards = 2  # arq_cabecalho.numero_series_gravadas\n\nnumero_forwards = arq_cabecalho.numero_registros_arquivo_forward\nnumero_rees = arq_cabecalho.numero_rees\nnumero_submercados = arq_cabecalho.numero_submercados\nnumero_total_submercados = arq_cabecalho.numero_total_submercados\nnumero_patamares_carga = arq_cabecalho.numero_patamares_carga\nnumero_patamares_deficit = arq_cabecalho.numero_patamares_deficit\nnumero_classes_termicas_submercados = (\n    arq_cabecalho.numero_classes_termicas_submercados\n)"
      ]
    },
    {
      "cell_type": "markdown",
      "metadata": {},
      "source": [
        "Al\u00e9m do arquivo forwarh.dat, \u00e9 necess\u00e1rio obter informa\u00e7\u00f5es de alguns outros\narquivos de entrada, que ser\u00e3o utilizadas para a montagem dos `DataFrame` retornados\npelas propriedades da classe `Forward` de maneira coerente\n\n"
      ]
    },
    {
      "cell_type": "code",
      "execution_count": null,
      "metadata": {
        "collapsed": false
      },
      "outputs": [],
      "source": [
        "from inewave.newave import Adterm, Agrint, Confhd, Conft\n\narq_adterm = Adterm.read(\"./newave/adterm.dat\")\narq_agrint = Agrint.read(\"./newave/agrint.dat\")\narq_confhd = Confhd.read(\"./newave/confhd.dat\")\narq_conft = Conft.read(\"./newave/conft.dat\")\n\nnumero_agrupamentos_intercambio = len(\n    arq_agrint.agrupamentos[\"agrupamento\"].unique()\n)\n\nuhes = arq_confhd.usinas\nnomes_usinas_hidreletricas = uhes[\"nome_usina\"].to_list()\nnumero_usinas_hidreletricas = len(nomes_usinas_hidreletricas)\n\nutes = arq_conft.usinas\nutes = utes.sort_values(\"submercado\")\nnomes_classes_termicas = utes[\"nome_usina\"].unique()\n\nlag_maximo_usinas_gnl = arq_adterm.despachos[\"lag\"].max()"
      ]
    },
    {
      "cell_type": "markdown",
      "metadata": {},
      "source": [
        "<div class=\"alert alert-danger\"><h4>Warning</h4><p>Caso a leitura esteja sendo feita nos arquivos provenientes de uma execu\u00e7\u00e3o\n    oficial do modelo, recomenda-se que seja em um ambiente com quantidade suficiente\n    de mem\u00f3ria RAM. A implementa\u00e7\u00e3o atual realiza a convers\u00e3o de todos os dados lidos\n    para formato de DataFrames, resultando em um grande consumo de mem\u00f3ria. Os arquivos\n    tratados neste exemplo s\u00e3o de uma execu\u00e7\u00e3o reduzida espec\u00edfica para os testes.</p></div>\n\n\n"
      ]
    },
    {
      "cell_type": "markdown",
      "metadata": {},
      "source": [
        "A leitura do arquivo bin\u00e1rio com os dados \u00e9 feita utilizando as informa\u00e7\u00f5es\nadquiridas anteriormente. O n\u00famero de est\u00e1gios e simula\u00e7\u00f5es forward,\nque deveriam ser obtidos do arquivo cabe\u00e7alho, s\u00e3o atribu\u00eddos manualmente como constantes,\npois o arquivo de dados foi editado manualmente para economia de espa\u00e7o no reposit\u00f3rio.\nDa mesma forma, as vari\u00e1veis de n\u00famero de parques e\u00f3licos equivalentes e esta\u00e7\u00f5es\nde bombeamento tamb\u00e9m foram atribu\u00eddos manualmente, pois deveriam ser lidos dos\narquivos em formato LIBS, que n\u00e3o existiam para o caso de teste.\n\n"
      ]
    },
    {
      "cell_type": "code",
      "execution_count": null,
      "metadata": {
        "collapsed": false
      },
      "outputs": [],
      "source": [
        "from inewave.newave.forward import Forward\n\narq_binario = Forward.read(\n    \"./newave/forward.dat\",\n    tamanho_registro=tamanho_registro,\n    numero_estagios=1,\n    numero_forwards=2,\n    numero_rees=numero_rees,\n    numero_submercados=numero_submercados,\n    numero_total_submercados=numero_total_submercados,\n    numero_patamares_carga=numero_patamares_carga,\n    numero_patamares_deficit=numero_patamares_deficit,\n    numero_agrupamentos_intercambio=numero_agrupamentos_intercambio,\n    numero_classes_termicas_submercados=numero_classes_termicas_submercados,\n    numero_usinas_hidreletricas=numero_usinas_hidreletricas,\n    lag_maximo_usinas_gnl=lag_maximo_usinas_gnl,\n    numero_parques_eolicos_equivalentes=0,\n    numero_estacoes_bombeamento=0,\n    nomes_classes_termicas=nomes_classes_termicas,\n    nomes_usinas_hidreletricas=nomes_usinas_hidreletricas,\n)"
      ]
    },
    {
      "cell_type": "markdown",
      "metadata": {},
      "source": [
        "O arquivo bin\u00e1rio possui um grande n\u00famero de propriedades, que podem\nser consultadas diretamente na documenta\u00e7\u00e3o do `Forward <forward>`. Um exemplo \u00e9\no custo marginal da opera\u00e7\u00e3o em R$/MWh\n\n"
      ]
    },
    {
      "cell_type": "code",
      "execution_count": null,
      "metadata": {
        "collapsed": false
      },
      "outputs": [],
      "source": [
        "cmo = arq_binario.custo_marginal_operacao\ncmo"
      ]
    }
  ],
  "metadata": {
    "kernelspec": {
      "display_name": "Python 3",
      "language": "python",
      "name": "python3"
    },
    "language_info": {
      "codemirror_mode": {
        "name": "ipython",
        "version": 3
      },
      "file_extension": ".py",
      "mimetype": "text/x-python",
      "name": "python",
      "nbconvert_exporter": "python",
      "pygments_lexer": "ipython3",
      "version": "3.12.11"
    }
  },
  "nbformat": 4,
  "nbformat_minor": 0
}