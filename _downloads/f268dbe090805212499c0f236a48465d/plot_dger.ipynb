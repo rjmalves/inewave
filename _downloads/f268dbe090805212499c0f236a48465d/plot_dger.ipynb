{
  "cells": [
    {
      "cell_type": "markdown",
      "metadata": {},
      "source": [
        "\n# Altera\u00e7\u00e3o no dger.dat\n"
      ]
    },
    {
      "cell_type": "markdown",
      "metadata": {},
      "source": [
        "O dger.dat \u00e9 um dos principais arquivos de entrada do modelo NEWAVE. \u00c9\ncomum desejar realizar altera\u00e7\u00f5es autom\u00e1ticas neste arquivo, para fins de\nestudos peri\u00f3dicos. Isto pode ser feito utilizando a classe `Dger`:\n\n"
      ]
    },
    {
      "cell_type": "code",
      "execution_count": null,
      "metadata": {
        "collapsed": false
      },
      "outputs": [],
      "source": [
        "from inewave.newave import Dger\n\narq_dger = Dger.read(\"./newave/dger.dat\")"
      ]
    },
    {
      "cell_type": "markdown",
      "metadata": {},
      "source": [
        "Uma altera\u00e7\u00e3o muito comum \u00e9 o nome do caso:\n\n"
      ]
    },
    {
      "cell_type": "code",
      "execution_count": null,
      "metadata": {
        "collapsed": false
      },
      "outputs": [],
      "source": [
        "arq_dger.nome_caso"
      ]
    },
    {
      "cell_type": "markdown",
      "metadata": {},
      "source": [
        "Para alter\u00e1-lo, basta fazer:\n\n"
      ]
    },
    {
      "cell_type": "code",
      "execution_count": null,
      "metadata": {
        "collapsed": false
      },
      "outputs": [],
      "source": [
        "arq_dger.nome_caso = \"Caso de teste - inewave\"\narq_dger.nome_caso"
      ]
    },
    {
      "cell_type": "markdown",
      "metadata": {},
      "source": [
        "Todos os campos do arquivo s\u00e3o edit\u00e1veis seguindo esta mesma l\u00f3gica. Os nomes das propriedades\nque foram escolhidas para implementa\u00e7\u00e3o buscam refletir o sentido da configura\u00e7\u00e3o. Por exemplo,\npara as op\u00e7\u00f5es do gerenciamento externo de PLs, existem as propriedades separadas:\n\n"
      ]
    },
    {
      "cell_type": "code",
      "execution_count": null,
      "metadata": {
        "collapsed": false
      },
      "outputs": [],
      "source": [
        "print(\n    arq_dger.utiliza_gerenciamento_pls,\n    arq_dger.comunicacao_dois_niveis,\n    arq_dger.armazenamento_local_arquivos_temporarios,\n)"
      ]
    },
    {
      "cell_type": "markdown",
      "metadata": {},
      "source": [
        "Para exportar o arquivo modificado, basta utilizar o m\u00e9todo `write` a partir do objeto que foi\nalterado. Todavia, n\u00e3o \u00e9 obrigat\u00f3rio fornecer um caminho para um arquivo no disco. A exporta\u00e7\u00e3o\ntamb\u00e9m pode ser feita para um buffer em mem\u00f3ria, se o objetivo\nfor enviar o conte\u00fado do arquivo atrav\u00e9s de uma requisi\u00e7\u00e3o HTTP, por exemplo, ou armazenar em um\nbanco de dados para documentos:\n\n"
      ]
    },
    {
      "cell_type": "code",
      "execution_count": null,
      "metadata": {
        "collapsed": false
      },
      "outputs": [],
      "source": [
        "from io import StringIO\n\nconteudo_dger = StringIO()\narq_dger.write(conteudo_dger)\nprint(conteudo_dger.getvalue())"
      ]
    }
  ],
  "metadata": {
    "kernelspec": {
      "display_name": "Python 3",
      "language": "python",
      "name": "python3"
    },
    "language_info": {
      "codemirror_mode": {
        "name": "ipython",
        "version": 3
      },
      "file_extension": ".py",
      "mimetype": "text/x-python",
      "name": "python",
      "nbconvert_exporter": "python",
      "pygments_lexer": "ipython3",
      "version": "3.12.11"
    }
  },
  "nbformat": 4,
  "nbformat_minor": 0
}