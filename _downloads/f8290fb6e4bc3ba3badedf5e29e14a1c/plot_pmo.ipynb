{
  "cells": [
    {
      "cell_type": "markdown",
      "metadata": {},
      "source": [
        "\n# An\u00e1lise do pmo.dat\n"
      ]
    },
    {
      "cell_type": "markdown",
      "metadata": {},
      "source": [
        "Para realizar a an\u00e1lise do pmo.dat, ser\u00e1 utilizado o m\u00f3dulo plotly\n\n"
      ]
    },
    {
      "cell_type": "code",
      "execution_count": null,
      "metadata": {
        "collapsed": false
      },
      "outputs": [],
      "source": [
        "from inewave.newave import Pmo\nimport plotly.express as px\nimport plotly.io as pio\n\npio.templates.default = \"ggplot2\"\n\n\narq_pmo = Pmo.read(\"./newave/pmo.dat\")"
      ]
    },
    {
      "cell_type": "markdown",
      "metadata": {},
      "source": [
        "Os dados associados ao processo de converg\u00eancia s\u00e3o obtidos com:\n\n"
      ]
    },
    {
      "cell_type": "code",
      "execution_count": null,
      "metadata": {
        "collapsed": false
      },
      "outputs": [],
      "source": [
        "arq_pmo.convergencia.head(10)"
      ]
    },
    {
      "cell_type": "markdown",
      "metadata": {},
      "source": [
        "O formato dos dados de custos por etapa tamb\u00e9m s\u00e3o acess\u00edveis:\n\n"
      ]
    },
    {
      "cell_type": "code",
      "execution_count": null,
      "metadata": {
        "collapsed": false
      },
      "outputs": [],
      "source": [
        "arq_pmo.custo_operacao_series_simuladas.head(10)"
      ]
    },
    {
      "cell_type": "markdown",
      "metadata": {},
      "source": [
        "Tamb\u00e9m \u00e9 poss\u00edvel acessar o custo total:\n\n"
      ]
    },
    {
      "cell_type": "code",
      "execution_count": null,
      "metadata": {
        "collapsed": false
      },
      "outputs": [],
      "source": [
        "arq_pmo.custo_operacao_total"
      ]
    },
    {
      "cell_type": "markdown",
      "metadata": {},
      "source": [
        "Cada arquivo pode ser visualizado de diferentes maneiras, a depender da aplica\u00e7\u00e3o.\nPor exemplo, \u00e9 comum avaliar a converg\u00eancia do modelo atrav\u00e9s da varia\u00e7\u00e3o do Zinf.\n\n"
      ]
    },
    {
      "cell_type": "code",
      "execution_count": null,
      "metadata": {
        "collapsed": false
      },
      "outputs": [],
      "source": [
        "fig = px.line(\n    arq_pmo.convergencia,\n    x=\"iteracao\",\n    y=[\"zinf\", \"zsup\"],\n)\nfig"
      ]
    },
    {
      "cell_type": "markdown",
      "metadata": {},
      "source": [
        "Quando se analisam os custos de cada fonte, geralmente s\u00e3o feitos gr\u00e1ficos de barras\nempilhadas ou setores:\n\n"
      ]
    },
    {
      "cell_type": "code",
      "execution_count": null,
      "metadata": {
        "collapsed": false
      },
      "outputs": [],
      "source": [
        "custos = arq_pmo.custo_operacao_series_simuladas\nfig = px.pie(\n    custos.loc[custos[\"valor_esperado\"] > 0],\n    values=\"valor_esperado\",\n    names=\"parcela\",\n)\nfig"
      ]
    },
    {
      "cell_type": "markdown",
      "metadata": {},
      "source": [
        "Tamb\u00e9m \u00e9 poss\u00edvel acessar diversas outras informa\u00e7\u00f5es existentes no arquivo, como o\nrelat\u00f3rio das produtibilidades calculadas e a tend\u00eancia hidrol\u00f3gica vista pelo modelo.\nMais informa\u00e7\u00f5es est\u00e3o dispon\u00edveis na p\u00e1gina de refer\u00eancia.\n\n"
      ]
    }
  ],
  "metadata": {
    "kernelspec": {
      "display_name": "Python 3",
      "language": "python",
      "name": "python3"
    },
    "language_info": {
      "codemirror_mode": {
        "name": "ipython",
        "version": 3
      },
      "file_extension": ".py",
      "mimetype": "text/x-python",
      "name": "python",
      "nbconvert_exporter": "python",
      "pygments_lexer": "ipython3",
      "version": "3.12.11"
    }
  },
  "nbformat": 4,
  "nbformat_minor": 0
}